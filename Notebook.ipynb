{
 "cells": [
  {
   "cell_type": "markdown",
   "metadata": {},
   "source": [
    "## Import the necessary modules\n",
    "We use the following modules that are pre-installed in the Anaconda Installer.<br>\n",
    "1)Matplotlib<br>\n",
    "2)Numpy<br>\n",
    "3)Pandas<br>\n",
    "4)Sklearn<br>\n",
    "The following packages were manually installed (with permission granted to do so via my email on 23 June 2020). The following packages can be installed using the corresponding command in parentheses.<br>\n",
    "5)Keras (conda install -c conda-forge keras)<br>\n",
    "6)OpenCV (pip install opencv-python)<br>\n",
    "7)Tensorflow(conda create -n tf tensorflow , thereafter, conda activate tf). Note, these commands will install the CPU-version of tensorflow. Should you already have tensorflow install, the last command of the next cell will ensure that a CPU implementation is executed.<br>\n"
   ]
  },
  {
   "cell_type": "code",
   "execution_count": 1,
   "metadata": {},
   "outputs": [
    {
     "name": "stderr",
     "output_type": "stream",
     "text": [
      "Using TensorFlow backend.\n",
      "C:\\Users\\mayur\\anaconda3\\lib\\site-packages\\tensorflow\\python\\framework\\dtypes.py:526: FutureWarning: Passing (type, 1) or '1type' as a synonym of type is deprecated; in a future version of numpy, it will be understood as (type, (1,)) / '(1,)type'.\n",
      "  _np_qint8 = np.dtype([(\"qint8\", np.int8, 1)])\n",
      "C:\\Users\\mayur\\anaconda3\\lib\\site-packages\\tensorflow\\python\\framework\\dtypes.py:527: FutureWarning: Passing (type, 1) or '1type' as a synonym of type is deprecated; in a future version of numpy, it will be understood as (type, (1,)) / '(1,)type'.\n",
      "  _np_quint8 = np.dtype([(\"quint8\", np.uint8, 1)])\n",
      "C:\\Users\\mayur\\anaconda3\\lib\\site-packages\\tensorflow\\python\\framework\\dtypes.py:528: FutureWarning: Passing (type, 1) or '1type' as a synonym of type is deprecated; in a future version of numpy, it will be understood as (type, (1,)) / '(1,)type'.\n",
      "  _np_qint16 = np.dtype([(\"qint16\", np.int16, 1)])\n",
      "C:\\Users\\mayur\\anaconda3\\lib\\site-packages\\tensorflow\\python\\framework\\dtypes.py:529: FutureWarning: Passing (type, 1) or '1type' as a synonym of type is deprecated; in a future version of numpy, it will be understood as (type, (1,)) / '(1,)type'.\n",
      "  _np_quint16 = np.dtype([(\"quint16\", np.uint16, 1)])\n",
      "C:\\Users\\mayur\\anaconda3\\lib\\site-packages\\tensorflow\\python\\framework\\dtypes.py:530: FutureWarning: Passing (type, 1) or '1type' as a synonym of type is deprecated; in a future version of numpy, it will be understood as (type, (1,)) / '(1,)type'.\n",
      "  _np_qint32 = np.dtype([(\"qint32\", np.int32, 1)])\n",
      "C:\\Users\\mayur\\anaconda3\\lib\\site-packages\\tensorflow\\python\\framework\\dtypes.py:535: FutureWarning: Passing (type, 1) or '1type' as a synonym of type is deprecated; in a future version of numpy, it will be understood as (type, (1,)) / '(1,)type'.\n",
      "  np_resource = np.dtype([(\"resource\", np.ubyte, 1)])\n"
     ]
    }
   ],
   "source": [
    "import os\n",
    "import numpy as np\n",
    "import cv2 as cv\n",
    "import pandas as pd\n",
    "import itertools\n",
    "from keras.models import Sequential\n",
    "from keras.layers import Dense, MaxPooling2D, Conv2D, Dropout, Flatten\n",
    "from keras.utils.np_utils import to_categorical\n",
    "from keras.models import load_model\n",
    "from sklearn.model_selection import KFold\n",
    "from sklearn import metrics\n",
    "import matplotlib.pyplot as plt\n",
    "%matplotlib inline\n",
    "#Once tensorflow is installed, we use the following command to ensure that a \n",
    "#CPU-implementation is used\n",
    "os.environ['CUDA_VISIBLE_DEVICES'] = '-1'"
   ]
  },
  {
   "cell_type": "markdown",
   "metadata": {},
   "source": [
    "Define the necessary global variables"
   ]
  },
  {
   "cell_type": "code",
   "execution_count": 2,
   "metadata": {},
   "outputs": [],
   "source": [
    "background = None\n",
    "global history\n",
    "global hand_hist\n",
    "global s\n",
    "global is_hand_hist_created\n",
    "global no_frames\n",
    "\n",
    "traverse_point = []\n",
    "total_rectangle = 9\n",
    "hand_rect_one_x = None\n",
    "hand_rect_one_y = None\n",
    "hand_rect_two_x = None\n",
    "hand_rect_two_y = None"
   ]
  },
  {
   "cell_type": "markdown",
   "metadata": {},
   "source": [
    "Define the function to draw the 9 green rectangles required to perform background removal."
   ]
  },
  {
   "cell_type": "code",
   "execution_count": 3,
   "metadata": {},
   "outputs": [],
   "source": [
    "def draw_rect(image_frame):\n",
    "    global total_rectangle, hand_rect_one_x, hand_rect_one_y, hand_rect_two_x, hand_rect_two_y\n",
    "    hand_rect_one_x = np.array(\n",
    "        [130, 130, 130, 180, 180, 180, 230, 230, 230], dtype=np.uint32)\n",
    "\n",
    "    hand_rect_one_y = np.array(\n",
    "        [125, 150, 175, 125, 150, 175, 125, 150, 175, ], dtype=np.uint32)\n",
    "\n",
    "    hand_rect_two_x = hand_rect_one_x + 15\n",
    "    hand_rect_two_y = hand_rect_one_y + 15\n",
    "\n",
    "    for i in range(total_rectangle):\n",
    "        cv.rectangle(image_frame, (hand_rect_one_y[i], hand_rect_one_x[i]),\n",
    "                     (hand_rect_two_y[i], hand_rect_two_x[i]),\n",
    "                     (0, 255, 0), 1)\n",
    "    return image_frame"
   ]
  },
  {
   "cell_type": "markdown",
   "metadata": {},
   "source": [
    "Define the function to compute the histogram of the hand used to perform background removal."
   ]
  },
  {
   "cell_type": "code",
   "execution_count": 4,
   "metadata": {},
   "outputs": [],
   "source": [
    "def hand_histogram(frame):\n",
    "    global hand_rect_one_x, hand_rect_one_y\n",
    "\n",
    "    hsv_frame = cv.cvtColor(frame, cv.COLOR_BGR2HSV)\n",
    "    roi = np.zeros([90, 10, 3], dtype=hsv_frame.dtype)\n",
    "\n",
    "    for i in range(total_rectangle):\n",
    "        roi[i * 10: i * 10 + 10, 0: 10] = hsv_frame[hand_rect_one_x[i]:hand_rect_one_x[i] + 10,\n",
    "                                          hand_rect_one_y[i]:hand_rect_one_y[i] + 10]\n",
    "\n",
    "    # Quantize the hue to 180 levels and the saturation to 256 levels.\n",
    "    # we set the range of the hue to span [0,180] and the saturation to [0,255]\n",
    "    hand_hist = cv.calcHist([roi], [0, 1], None, [180, 256], [0, 180, 0, 256])\n",
    "    return cv.normalize(hand_hist, hand_hist, 0, 255, cv.NORM_MINMAX)"
   ]
  },
  {
   "cell_type": "markdown",
   "metadata": {},
   "source": [
    "Define the function that removes the background from the given 'image'/ video frame."
   ]
  },
  {
   "cell_type": "code",
   "execution_count": 5,
   "metadata": {},
   "outputs": [],
   "source": [
    "def hist_masking(frame, hist):\n",
    "    hsv = cv.cvtColor(frame, cv.COLOR_BGR2HSV)\n",
    "    dst = cv.calcBackProject([hsv], [0, 1], hist, [0, 180, 0, 256], 1)\n",
    "    disc = cv.getStructuringElement(cv.MORPH_ELLIPSE, (31, 31))\n",
    "    cv.filter2D(dst, -1, disc, dst)\n",
    "    ret, thresh = cv.threshold(dst, 150, 255, cv.THRESH_BINARY)\n",
    "    thresh = cv.merge((thresh, thresh, thresh))\n",
    "    return cv.bitwise_and(frame, thresh)"
   ]
  },
  {
   "cell_type": "markdown",
   "metadata": {},
   "source": [
    "Define the function used to easily perform a prediction."
   ]
  },
  {
   "cell_type": "code",
   "execution_count": 6,
   "metadata": {},
   "outputs": [],
   "source": [
    "def make_prediction(model, image):\n",
    "    data = np.asarray(image, dtype=np.uint8)\n",
    "    pred_probab = model.predict(data)[0]\n",
    "    pred_class = list(pred_probab).index(max(pred_probab))\n",
    "    return max(pred_probab), pred_class"
   ]
  },
  {
   "cell_type": "markdown",
   "metadata": {},
   "source": [
    "Define a model to reconstruct the model and to train the model again."
   ]
  },
  {
   "cell_type": "code",
   "execution_count": 7,
   "metadata": {},
   "outputs": [],
   "source": [
    "def create_model():\n",
    "    global history\n",
    "    model = Sequential()\n",
    "    model.add(Conv2D(filters=32, kernel_size=(3, 3), \\\n",
    "                     input_shape=(28, 28, 1), activation='relu'))\n",
    "    model.add(MaxPooling2D(pool_size=(2, 2), padding='same'))\n",
    "    model.add(Dropout(0.25))\n",
    "\n",
    "    model.add(Conv2D(filters=64, kernel_size=(3, 3), activation='relu'))\n",
    "    model.add(MaxPooling2D(pool_size=(2, 2)))\n",
    "    model.add(Dropout(0.25))\n",
    "\n",
    "    model.add(Conv2D(filters=128, kernel_size=(3, 3), activation='relu'))\n",
    "    model.add(MaxPooling2D(pool_size=(2, 2), strides=2))\n",
    "    model.add(Dropout(0.25))\n",
    "\n",
    "    model.add(Flatten())\n",
    "    model.add(Dense(units=512, activation='relu'))\n",
    "    model.add(Dropout(0.25))\n",
    "    model.add(Dense(units=26, activation='softmax'))\n",
    "    model.compile(optimizer='Adam', loss='categorical_crossentropy', metrics=['accuracy'])\n",
    "    history=model.fit(X_train, y_train, epochs=27, batch_size=256, validation_split=0.15)\n",
    "    accuracy = model.evaluate(x=X_test, y=y_test, batch_size=32)\n",
    "    print(\"Accuracy\", accuracy[1])\n",
    "    model.save('new_weights.h5')\n",
    "    np.save('my__new_history.npy', history.history)\n"
   ]
  },
  {
   "cell_type": "markdown",
   "metadata": {},
   "source": [
    "Import the training and testing data and reshape the samples to (28,28)."
   ]
  },
  {
   "cell_type": "code",
   "execution_count": 8,
   "metadata": {},
   "outputs": [],
   "source": [
    "training_data = pd.read_csv('data/sign_mnist_train.csv')\n",
    "testing_data = pd.read_csv('data/sign_mnist_test.csv')\n",
    "\n",
    "y_train = training_data['label'].values\n",
    "y_test = testing_data['label'].values\n",
    "\n",
    "X_train = training_data.drop(['label'], axis=1)\n",
    "X_test = testing_data.drop(['label'], axis=1)\n",
    "\n",
    "X_train = np.array(X_train.iloc[:, :]).astype(np.uint8)\n",
    "X_train = np.array([np.reshape(i, (28, 28)) for i in X_train])\n",
    "\n",
    "X_test = np.array(X_test.iloc[:, :]).astype(np.uint8)\n",
    "X_test = np.array([np.reshape(i, (28, 28)) for i in X_test])\n"
   ]
  },
  {
   "cell_type": "markdown",
   "metadata": {},
   "source": [
    "Display some of the samples."
   ]
  },
  {
   "cell_type": "code",
   "execution_count": 9,
   "metadata": {},
   "outputs": [
    {
     "data": {
      "image/png": "[encoded data removed]",
      "text/plain": [
       "<Figure size 1440x360 with 5 Axes>"
      ]
     },
     "metadata": {
      "needs_background": "light"
     },
     "output_type": "display_data"
    }
   ],
   "source": [
    "figure,axes=plt.subplots(nrows=1,ncols=5,figsize=(20,5), sharex=True, sharey=True)\n",
    "ax=axes.ravel()\n",
    "ax[0].imshow(X_test[0],cmap='gray')\n",
    "ax[1].imshow(X_test[1],cmap=plt.cm.gray)\n",
    "ax[2].imshow(X_test[2],cmap=plt.cm.gray)\n",
    "ax[3].imshow(X_test[3],cmap=plt.cm.gray)\n",
    "\n",
    "for x in ax:\n",
    "    x.axis('off')\n",
    "figure.tight_layout()\n",
    "plt.show()"
   ]
  },
  {
   "cell_type": "markdown",
   "metadata": {},
   "source": [
    "Reshape the data since a 4 dimensional input is required."
   ]
  },
  {
   "cell_type": "code",
   "execution_count": 10,
   "metadata": {},
   "outputs": [],
   "source": [
    "X_train = X_train.reshape((27455, 28, 28, 1))  # Get data as 27455 28x28 grayscale images\n",
    "X_test = X_test.reshape((7172, 28, 28, 1))"
   ]
  },
  {
   "cell_type": "markdown",
   "metadata": {},
   "source": [
    "Convert the labels to its one-hot encoded representation."
   ]
  },
  {
   "cell_type": "code",
   "execution_count": 11,
   "metadata": {},
   "outputs": [],
   "source": [
    "alphabet = y_test\n",
    "y_train = to_categorical(y_train, num_classes=26)\n",
    "y_test = to_categorical(y_test, num_classes=26)"
   ]
  },
  {
   "cell_type": "markdown",
   "metadata": {},
   "source": [
    "The code below is executed when background removal is performed."
   ]
  },
  {
   "cell_type": "code",
   "execution_count": 12,
   "metadata": {},
   "outputs": [],
   "source": [
    "def nothing(x):\n",
    "    pass\n",
    "\n",
    "def with_bg_removal(model, image_frame):\n",
    "    global s\n",
    "    global is_hand_hist_created\n",
    "    global hand_hist\n",
    "    global no_frames\n",
    "    #print(is_hand_hist_created)\n",
    "    if not is_hand_hist_created:\n",
    "        cv.rectangle(image_frame, (0, 420), (700, 600), (64, 64, 226), -1)\n",
    "        cv.putText(image_frame, \"Please ensure your hand fits within the ROI and your hand covers all green squares.\",\n",
    "                   (5, 450), cv.FONT_HERSHEY_COMPLEX, 0.42, (0, 0, 0), lineType=cv.LINE_AA)\n",
    "        cv.putText(image_frame, \"Stay in this position for roughly 5 seconds and press 'z' when you're ready!\",\n",
    "                   (15, 470),\n",
    "                   cv.FONT_HERSHEY_COMPLEX, 0.42, (0, 0, 0), lineType=cv.LINE_AA)\n",
    "\n",
    "    if cv.waitKey(1) & 0xFF == ord('z'):\n",
    "        is_hand_hist_created = True\n",
    "        hand_hist = hand_histogram(image_frame)\n",
    "\n",
    "    if is_hand_hist_created==True:\n",
    "        hist_mask_image = hist_masking(image_frame, hand_hist)\n",
    "        hist_mask_image = cv.erode(hist_mask_image, None, iterations=2)\n",
    "        hist_mask_image = cv.dilate(hist_mask_image, None, iterations=2)\n",
    "        test = image_frame[60:320, 10:320]\n",
    "        cropped_area = hist_mask_image[60:320, 10:320]\n",
    "        cv.imshow(\"Background Removed\", cropped_area)\n",
    "        gray = cv.cvtColor(cropped_area, cv.COLOR_BGR2GRAY)\n",
    "        square = cv.resize(gray, (28, 28), interpolation=cv.INTER_AREA).astype(np.uint8)\n",
    "        new_gray = square[np.newaxis, :, :, np.newaxis].astype(np.uint8)\n",
    "        pred_probab, pred_class = make_prediction(model, new_gray)\n",
    "        alphabet = Map[pred_class]\n",
    "        cv.putText(image_frame, alphabet, (100, 100), cv.FONT_HERSHEY_COMPLEX, 4.0, (0, 255, 0),\n",
    "                   lineType=cv.LINE_AA)\n",
    "    else:\n",
    "        image_frame = draw_rect(image_frame)\n",
    "        \n",
    "    cv.rectangle(image_frame, (320, 60), (10, 320), (0, 255, 0), 2)\n",
    "    cv.imshow(\"Video Feed\", image_frame)\n",
    "    s = cv.getTrackbarPos(switch, 'Video Feed')\n",
    "    if s == 0:\n",
    "        no_frames = 0\n",
    "        if(cv.getWindowProperty(\"Background Removed\", cv.WND_PROP_VISIBLE)==1):\n",
    "            cv.destroyWindow(\"Background Removed\")\n"
   ]
  },
  {
   "cell_type": "markdown",
   "metadata": {},
   "source": [
    "The code below is executed when we do not perform background removal."
   ]
  },
  {
   "cell_type": "code",
   "execution_count": 13,
   "metadata": {},
   "outputs": [],
   "source": [
    "def without_bg_removal():\n",
    "    global no_frames\n",
    "    global is_hand_hist_created\n",
    "    global s\n",
    "    cropped_area = image_frame[60:320, 10:320]\n",
    "    gray = cv.cvtColor(cropped_area, cv.COLOR_BGR2GRAY)\n",
    "    square = cv.GaussianBlur(gray, (3, 3), 20)\n",
    "    square = cv.resize(square, (28, 28), interpolation=cv.INTER_AREA).astype(np.uint8)\n",
    "\n",
    "    new_gray = square[np.newaxis, :, :, np.newaxis]\n",
    "    pred_probab, pred_class = make_prediction(model, new_gray)\n",
    "    alphabet = Map[pred_class]\n",
    "    if no_frames < 80:\n",
    "        cv.rectangle(image_frame, (0, 420), (700, 600), (64, 64, 226), -1)\n",
    "        cv.putText(image_frame, \"Please ensure that your background is clear/ white & free of objects\", (15, 450),\n",
    "                   cv.FONT_HERSHEY_COMPLEX, 0.5, (0, 0, 0), lineType=cv.LINE_AA)\n",
    "\n",
    "    cv.putText(image_frame, alphabet, (100, 100), cv.FONT_HERSHEY_COMPLEX, 4.0, (0, 255, 0),\n",
    "               lineType=cv.LINE_AA)\n",
    "\n",
    "    cv.rectangle(image_frame, (320, 60), (10, 320), (0, 255, 0), 2)\n",
    "    no_frames += 1\n",
    "    cv.imshow(\"Video Feed\", image_frame)\n",
    "    s = cv.getTrackbarPos(switch, 'Video Feed')\n",
    "    if s == 1:\n",
    "        no_frames = 0\n",
    "        is_hand_hist_created = False\n"
   ]
  },
  {
   "cell_type": "markdown",
   "metadata": {},
   "source": [
    "Define a dictionary to map the label's numerical representation to its alphabetical representation."
   ]
  },
  {
   "cell_type": "code",
   "execution_count": 14,
   "metadata": {},
   "outputs": [],
   "source": [
    "Map = {0: 'A', 1: 'B', 2: 'C', 3: 'D', 4: 'E', 5: 'F', 6: 'G', 7: 'H', 8: 'I', 10: 'K', 11: 'L', \\\n",
    "       12: 'M', 13: 'N', 14: 'O', 15: 'P', 16: 'Q', 17: 'R', 18: 'S', 19: 'T', 20: 'U', 21: 'V', 22: 'W', 23: 'X',\n",
    "       24: 'Y'}"
   ]
  },
  {
   "cell_type": "markdown",
   "metadata": {},
   "source": [
    "If you wish to re-train the model, please uncomment the line below."
   ]
  },
  {
   "cell_type": "code",
   "execution_count": 15,
   "metadata": {
    "scrolled": true
   },
   "outputs": [],
   "source": [
    "#create_model()"
   ]
  },
  {
   "cell_type": "markdown",
   "metadata": {},
   "source": [
    "Load the pretrained model named 'the_weights.h5'. If you re-trained above, please replace the parameter to the load_model function to be 'new_weights.h5'."
   ]
  },
  {
   "cell_type": "code",
   "execution_count": 16,
   "metadata": {},
   "outputs": [
    {
     "name": "stdout",
     "output_type": "stream",
     "text": [
      "WARNING:tensorflow:From C:\\Users\\mayur\\anaconda3\\lib\\site-packages\\tensorflow\\python\\ops\\resource_variable_ops.py:435: colocate_with (from tensorflow.python.framework.ops) is deprecated and will be removed in a future version.\n",
      "Instructions for updating:\n",
      "Colocations handled automatically by placer.\n",
      "WARNING:tensorflow:From C:\\Users\\mayur\\anaconda3\\lib\\site-packages\\tensorflow\\python\\ops\\math_ops.py:3066: to_int32 (from tensorflow.python.ops.math_ops) is deprecated and will be removed in a future version.\n",
      "Instructions for updating:\n",
      "Use tf.cast instead.\n"
     ]
    }
   ],
   "source": [
    "model = load_model('the_weights.h5')\n"
   ]
  },
  {
   "cell_type": "markdown",
   "metadata": {},
   "source": [
    "The code below sets up the interface and establishes the while loop that is executed to process each frame of the webcam stream. The code executed is dependent on whether the user has selected whether background removal is performed or not.  Executing the cell below will open 2 windows (one for the interface and the other to display a sign language chart). To close all the tabs, please press 'q'."
   ]
  },
  {
   "cell_type": "code",
   "execution_count": 17,
   "metadata": {},
   "outputs": [],
   "source": [
    "\n",
    "no_frames = 0\n",
    "cv.namedWindow(\"Video Feed\")\n",
    "\n",
    "switch = \"\"\n",
    "cv.createTrackbar(switch, 'Video Feed', 0, 1, nothing)\n",
    "s = cv.getTrackbarPos(switch, 'Video Feed')\n",
    "\n",
    "chart = cv.imread('data/chart.png', cv.IMREAD_COLOR).astype(np.uint8)\n",
    "# Fix the path to the image!\n",
    "Camera = cv.VideoCapture(0)\n",
    "while Camera.isOpened():\n",
    "    cv.imshow(\"Sign Language Chart\", chart)\n",
    "    ret, image_frame = Camera.read()\n",
    "    image_frame = cv.flip(image_frame, flipCode=1)\n",
    "    cv.putText(image_frame, \"Without Background Removal\", (60, 20), cv.FONT_HERSHEY_COMPLEX, 0.3, (255, 255, 255),\n",
    "               lineType=cv.LINE_AA)\n",
    "    cv.putText(image_frame, \"With Background Removal\", (500, 20), cv.FONT_HERSHEY_COMPLEX, 0.3, (255, 255, 255),\n",
    "               lineType=cv.LINE_AA)\n",
    "    if s == 1:\n",
    "        with_bg_removal(model, image_frame)\n",
    "    else:\n",
    "        without_bg_removal()\n",
    "\n",
    "    key_press = cv.waitKey(1) & 0xFF\n",
    "    \n",
    "    if key_press == ord(\"q\") or cv.getWindowProperty(\"Video Feed\", cv.WND_PROP_VISIBLE) < 1 or  cv.getWindowProperty(\"Sign Language Chart\", cv.WND_PROP_VISIBLE) < 1:\n",
    "        break\n",
    "\n",
    "Camera.release()\n",
    "cv.destroyAllWindows()"
   ]
  },
  {
   "cell_type": "markdown",
   "metadata": {},
   "source": [
    "## Below, we present the evaluation results of the above model."
   ]
  },
  {
   "cell_type": "markdown",
   "metadata": {},
   "source": [
    "The cell below evaluates the accuracy of the model on the testing data."
   ]
  },
  {
   "cell_type": "code",
   "execution_count": 18,
   "metadata": {},
   "outputs": [
    {
     "name": "stdout",
     "output_type": "stream",
     "text": [
      "7172/7172 [==============================] - 1s 149us/step\n",
      "0.9652816653251648\n"
     ]
    }
   ],
   "source": [
    "print(model.evaluate(x=X_test,y=y_test,batch_size=32)[1])"
   ]
  },
  {
   "cell_type": "markdown",
   "metadata": {},
   "source": [
    "The cell below computes the precision and recall of our model for each alphabet."
   ]
  },
  {
   "cell_type": "code",
   "execution_count": 19,
   "metadata": {},
   "outputs": [
    {
     "name": "stdout",
     "output_type": "stream",
     "text": [
      "              precision    recall  f1-score   support\n",
      "\n",
      "           A       1.00      1.00      1.00       331\n",
      "           B       1.00      1.00      1.00       432\n",
      "           C       0.95      1.00      0.97       310\n",
      "           D       1.00      1.00      1.00       245\n",
      "           E       1.00      1.00      1.00       498\n",
      "           F       1.00      1.00      1.00       247\n",
      "           G       0.93      0.78      0.85       348\n",
      "           H       0.94      0.95      0.95       436\n",
      "           I       0.93      1.00      0.96       288\n",
      "           K       1.00      0.94      0.97       331\n",
      "           L       1.00      1.00      1.00       209\n",
      "           M       1.00      1.00      1.00       394\n",
      "           N       1.00      1.00      1.00       291\n",
      "           O       1.00      0.93      0.97       246\n",
      "           P       1.00      1.00      1.00       347\n",
      "           Q       0.92      1.00      0.96       164\n",
      "           R       0.83      0.72      0.77       144\n",
      "           S       0.91      1.00      0.96       246\n",
      "           T       0.80      0.89      0.84       248\n",
      "           U       0.92      0.99      0.95       266\n",
      "           V       1.00      0.99      0.99       346\n",
      "           W       1.00      1.00      1.00       206\n",
      "           X       0.90      0.92      0.91       267\n",
      "           Y       1.00      0.94      0.97       332\n",
      "\n",
      "    accuracy                           0.97      7172\n",
      "   macro avg       0.96      0.96      0.96      7172\n",
      "weighted avg       0.97      0.97      0.96      7172\n",
      "\n"
     ]
    }
   ],
   "source": [
    "results = model.predict_classes(X_test)\n",
    "print(metrics.classification_report(alphabet,results,target_names=Map.values()))"
   ]
  },
  {
   "cell_type": "markdown",
   "metadata": {},
   "source": [
    "The function below is used to produce the confusion matrix."
   ]
  },
  {
   "cell_type": "code",
   "execution_count": 20,
   "metadata": {},
   "outputs": [
    {
     "data": {
      "image/png": "[encoded data removed]",
      "text/plain": [
       "<Figure size 1080x1080 with 2 Axes>"
      ]
     },
     "metadata": {
      "needs_background": "light"
     },
     "output_type": "display_data"
    }
   ],
   "source": [
    "def plot_confusion_matrix(cm, classes,\n",
    "                          normalize=False,\n",
    "                          title='Confusion matrix',\n",
    "                          cmap=plt.cm.Blues):\n",
    "\n",
    "    plt.imshow(cm, interpolation='nearest', cmap=cmap)\n",
    "    plt.title(title)\n",
    "    plt.colorbar()\n",
    "    tick_marks = np.arange(len(classes))\n",
    "    plt.xticks(tick_marks, classes, rotation=45)\n",
    "    plt.yticks(tick_marks, classes)\n",
    "\n",
    "    if normalize:\n",
    "        cm = cm.astype('float') / cm.sum(axis=1)[:, np.newaxis]\n",
    "\n",
    "\n",
    "    thresh = cm.max() / 2.\n",
    "    for i, j in itertools.product(range(cm.shape[0]), range(cm.shape[1])):\n",
    "        plt.text(j, i, cm[i, j],\n",
    "                 horizontalalignment=\"center\",\n",
    "                 color=\"white\" if cm[i, j] > thresh else \"black\")\n",
    "\n",
    "    plt.tight_layout()\n",
    "    plt.ylabel('True label')\n",
    "    plt.xlabel('Predicted label')\n",
    "\n",
    "\n",
    "conf = metrics.confusion_matrix(alphabet, results)\n",
    "plt.figure(figsize=(15,15))\n",
    "plot_confusion_matrix(conf, classes=Map.values(), normalize=False, title=\"The Confusion Matrix\")\n",
    "plt.show()\n",
    "\n"
   ]
  },
  {
   "cell_type": "markdown",
   "metadata": {},
   "source": [
    "The cell below produces the graphs illustrating the progression of the model's loss and accuracy as the epochs increases"
   ]
  },
  {
   "cell_type": "code",
   "execution_count": 21,
   "metadata": {},
   "outputs": [
    {
     "data": {
      "image/png": "[encoded data removed]",
      "text/plain": [
       "<Figure size 432x288 with 1 Axes>"
      ]
     },
     "metadata": {
      "needs_background": "light"
     },
     "output_type": "display_data"
    },
    {
     "data": {
      "image/png": "[encoded data removed]",
      "text/plain": [
       "<Figure size 432x288 with 1 Axes>"
      ]
     },
     "metadata": {
      "needs_background": "light"
     },
     "output_type": "display_data"
    }
   ],
   "source": [
    "history=np.load('my_history.npy',allow_pickle='TRUE').item()\n",
    "\n",
    "# summarize history for accuracy\n",
    "plt.plot(history['accuracy'])\n",
    "plt.plot(history['val_accuracy'])\n",
    "plt.title('model accuracy')\n",
    "plt.ylabel('accuracy')\n",
    "plt.xlabel('epoch')\n",
    "plt.legend(['train', 'validation'], loc='upper left')\n",
    "plt.show()\n",
    "# summarize history for loss\n",
    "plt.plot(history['loss'])\n",
    "plt.plot(history['val_loss'])\n",
    "plt.title('model loss')\n",
    "plt.ylabel('loss')\n",
    "plt.xlabel('epoch')\n",
    "plt.legend(['train', 'validation'], loc='upper left')\n",
    "plt.show()"
   ]
  },
  {
   "cell_type": "code",
   "execution_count": null,
   "metadata": {},
   "outputs": [],
   "source": []
  }
 ],
 "metadata": {
  "kernelspec": {
   "display_name": "Python 3",
   "language": "python",
   "name": "python3"
  },
  "language_info": {
   "codemirror_mode": {
    "name": "ipython",
    "version": 3
   },
   "file_extension": ".py",
   "mimetype": "text/x-python",
   "name": "python",
   "nbconvert_exporter": "python",
   "pygments_lexer": "ipython3",
   "version": "3.6.8"
  }
 },
 "nbformat": 4,
 "nbformat_minor": 2
}
